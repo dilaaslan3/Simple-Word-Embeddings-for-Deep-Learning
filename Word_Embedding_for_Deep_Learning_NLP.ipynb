{
  "nbformat": 4,
  "nbformat_minor": 0,
  "metadata": {
    "colab": {
      "name": "Word Embedding for Deep Learning NLP.ipynb",
      "provenance": []
    },
    "kernelspec": {
      "name": "python3",
      "display_name": "Python 3"
    }
  },
  "cells": [
    {
      "cell_type": "markdown",
      "metadata": {
        "id": "1DvORa0QJdJ3",
        "colab_type": "text"
      },
      "source": [
        "# Download the required libraries"
      ]
    },
    {
      "cell_type": "code",
      "metadata": {
        "id": "7GZ42tqTI9Bq",
        "colab_type": "code",
        "colab": {
          "base_uri": "https://localhost:8080/",
          "height": 34
        },
        "outputId": "05bda96f-b169-4696-d528-d9cca26b07e6"
      },
      "source": [
        "from numpy import array\n",
        "from keras.preprocessing.text import one_hot\n",
        "from keras.preprocessing.sequence import pad_sequences\n",
        "from keras.models import Sequential\n",
        "from keras.layers import Dense\n",
        "from keras.layers import Flatten\n",
        "from keras.layers.embeddings import Embedding"
      ],
      "execution_count": 1,
      "outputs": [
        {
          "output_type": "stream",
          "text": [
            "Using TensorFlow backend.\n"
          ],
          "name": "stderr"
        }
      ]
    },
    {
      "cell_type": "markdown",
      "metadata": {
        "id": "9QaSTm-wJicl",
        "colab_type": "text"
      },
      "source": [
        "# Create simple custom dataset"
      ]
    },
    {
      "cell_type": "code",
      "metadata": {
        "id": "qpMLYHR2JZJI",
        "colab_type": "code",
        "colab": {}
      },
      "source": [
        "corpus = [\n",
        "    # Positive Reviews\n",
        "\n",
        "    'This is an excellent movie',\n",
        "    'The move was fantastic I like it',\n",
        "    'You should watch it is brilliant',\n",
        "    'Exceptionally good',\n",
        "    'Wonderfully directed and executed I like it',\n",
        "    'Its a fantastic series',\n",
        "    'Never watched such a brillent movie',\n",
        "    'It is a Wonderful movie',\n",
        "\n",
        "    # Negtive Reviews\n",
        "\n",
        "    \"horrible acting\",\n",
        "    'waste of money',\n",
        "    'pathetic picture',\n",
        "    'It was very boring',\n",
        "    'I did not like the movie',\n",
        "    'The movie was horrible',\n",
        "    'I will not recommend',\n",
        "    'The acting is pathetic'\n",
        "]"
      ],
      "execution_count": 0,
      "outputs": []
    },
    {
      "cell_type": "markdown",
      "metadata": {
        "id": "5MWU0MM3NVpg",
        "colab_type": "text"
      },
      "source": [
        "# Create label set for our data\n",
        "You can see that the first 8 items in the sentiment array contain 1, which correspond to positive sentiment. The last 8 items are zero that correspond to negative sentiment."
      ]
    },
    {
      "cell_type": "code",
      "metadata": {
        "id": "uVORi8qCNPR8",
        "colab_type": "code",
        "colab": {}
      },
      "source": [
        "sentiments = array([1,1,1,1,1,1,1,1,0,0,0,0,0,0,0,0])\n"
      ],
      "execution_count": 0,
      "outputs": []
    },
    {
      "cell_type": "markdown",
      "metadata": {
        "id": "4S8K7k6uJyBi",
        "colab_type": "text"
      },
      "source": [
        "# Find the total number of words in our corpus \n",
        "The first parameter to the Embedding() layer is the vocabulary, or number of unique words in the corpus. "
      ]
    },
    {
      "cell_type": "code",
      "metadata": {
        "id": "8GPt3VlCJwnS",
        "colab_type": "code",
        "colab": {
          "base_uri": "https://localhost:8080/",
          "height": 50
        },
        "outputId": "4ecfd360-175e-4504-fe23-7abea96f529a"
      },
      "source": [
        "from nltk.tokenize import word_tokenize\n",
        "import nltk\n",
        "nltk.download('punkt')\n",
        "\n",
        "all_words = []\n",
        "for sent in corpus:\n",
        "    tokenize_word = word_tokenize(sent)\n",
        "    for word in tokenize_word:\n",
        "        all_words.append(word)"
      ],
      "execution_count": 5,
      "outputs": [
        {
          "output_type": "stream",
          "text": [
            "[nltk_data] Downloading package punkt to /root/nltk_data...\n",
            "[nltk_data]   Unzipping tokenizers/punkt.zip.\n"
          ],
          "name": "stdout"
        }
      ]
    },
    {
      "cell_type": "markdown",
      "metadata": {
        "id": "YIKfID9pKQce",
        "colab_type": "text"
      },
      "source": [
        "# Set all_words to unique_words\n",
        "unique_words = 45 I'll add a buffer of 5 to our vocabulary size and will set the value of vocab_length = 50."
      ]
    },
    {
      "cell_type": "code",
      "metadata": {
        "id": "36GgxvYCKJeq",
        "colab_type": "code",
        "colab": {
          "base_uri": "https://localhost:8080/",
          "height": 50
        },
        "outputId": "68abf198-77b6-4e30-8109-e52e53baa9b8"
      },
      "source": [
        "unique_words = set(all_words)\n",
        "vocab_length = 50\n",
        "print(len(all_words))\n",
        "print(len(unique_words))"
      ],
      "execution_count": 8,
      "outputs": [
        {
          "output_type": "stream",
          "text": [
            "71\n",
            "45\n"
          ],
          "name": "stdout"
        }
      ]
    },
    {
      "cell_type": "code",
      "metadata": {
        "id": "WiBQmLMqK2S2",
        "colab_type": "code",
        "colab": {
          "base_uri": "https://localhost:8080/",
          "height": 54
        },
        "outputId": "3c4e9b00-ee8a-4d1f-eb9d-8b645263f0e1"
      },
      "source": [
        "embedded_sentences = [one_hot(sent, vocab_length) for sent in corpus]\n",
        "print(embedded_sentences )"
      ],
      "execution_count": 9,
      "outputs": [
        {
          "output_type": "stream",
          "text": [
            "[[34, 37, 7, 37, 31], [41, 7, 31, 2, 12, 16, 30], [3, 44, 24, 30, 37, 36], [34, 36], [30, 4, 27, 10, 12, 16, 30], [42, 4, 2, 44], [48, 24, 46, 4, 19, 31], [30, 37, 4, 4, 31], [20, 31], [39, 27, 4], [5, 16], [30, 31, 29, 33], [12, 6, 17, 16, 41, 31], [41, 31, 31, 20], [12, 47, 17, 38], [41, 31, 37, 5]]\n"
          ],
          "name": "stdout"
        }
      ]
    },
    {
      "cell_type": "markdown",
      "metadata": {
        "id": "_mfJhhTVLKrU",
        "colab_type": "text"
      },
      "source": [
        "# Find the largest sentence\n",
        "The embedding layer expects sentences to be of equal size. However, our encoded sentences are of different sizes. One way to make all the sentences of uniform size is to increase the lenght of all the sentences and make it equal to the length of the largest sentence. Let's first find the largest sentence in our corpus and then we will increase the length of all the sentences to the length of the largest sentence."
      ]
    },
    {
      "cell_type": "code",
      "metadata": {
        "id": "nCwyvE7yLRkP",
        "colab_type": "code",
        "colab": {}
      },
      "source": [
        "word_count = lambda sentence: len(word_tokenize(sentence))\n",
        "longest_sentence = max(corpus, key=word_count)\n",
        "length_long_sentence = len(word_tokenize(longest_sentence))"
      ],
      "execution_count": 0,
      "outputs": []
    },
    {
      "cell_type": "markdown",
      "metadata": {
        "id": "h67JDWBILf1q",
        "colab_type": "text"
      },
      "source": [
        "# Make all the sentences of equal size\n",
        "we will add zeros to the empty indexes that will be created as a result of increasing the sentence length. To append the zeros at the end of the sentencses, we can use the pad_sequences method. The first parameter is the list of encoded sentences of unequal sizes, the second parameter is the size of the longest sentence or the padding index, while the last parameter is padding where you specify post to add padding at the end of sentences."
      ]
    },
    {
      "cell_type": "code",
      "metadata": {
        "id": "5hK2unXjLmSp",
        "colab_type": "code",
        "colab": {
          "base_uri": "https://localhost:8080/",
          "height": 286
        },
        "outputId": "494c3be2-af07-4023-bb66-c26a503b418a"
      },
      "source": [
        "padded_sentences = pad_sequences(embedded_sentences, length_long_sentence, padding='post')\n",
        "print(padded_sentences)"
      ],
      "execution_count": 11,
      "outputs": [
        {
          "output_type": "stream",
          "text": [
            "[[34 37  7 37 31  0  0]\n",
            " [41  7 31  2 12 16 30]\n",
            " [ 3 44 24 30 37 36  0]\n",
            " [34 36  0  0  0  0  0]\n",
            " [30  4 27 10 12 16 30]\n",
            " [42  4  2 44  0  0  0]\n",
            " [48 24 46  4 19 31  0]\n",
            " [30 37  4  4 31  0  0]\n",
            " [20 31  0  0  0  0  0]\n",
            " [39 27  4  0  0  0  0]\n",
            " [ 5 16  0  0  0  0  0]\n",
            " [30 31 29 33  0  0  0]\n",
            " [12  6 17 16 41 31  0]\n",
            " [41 31 31 20  0  0  0]\n",
            " [12 47 17 38  0  0  0]\n",
            " [41 31 37  5  0  0  0]]\n"
          ],
          "name": "stdout"
        }
      ]
    },
    {
      "cell_type": "markdown",
      "metadata": {
        "id": "4YdT3LK0Ls6o",
        "colab_type": "text"
      },
      "source": [
        "# Create a simple text classification model with an embedding layer and no hidden layers.\n",
        "\n"
      ]
    },
    {
      "cell_type": "code",
      "metadata": {
        "id": "U1sHfyZGLz9E",
        "colab_type": "code",
        "colab": {}
      },
      "source": [
        "model = Sequential()\n",
        "model.add(Embedding(vocab_length, 20, input_length=length_long_sentence))\n",
        "model.add(Flatten())\n",
        "model.add(Dense(1, activation='sigmoid'))"
      ],
      "execution_count": 0,
      "outputs": []
    },
    {
      "cell_type": "markdown",
      "metadata": {
        "id": "6BuvGrZUL9W9",
        "colab_type": "text"
      },
      "source": [
        "# Compile the model and print the summary of our model\n",
        "You can see that the first layer has **1000** trainable parameters. This is because our **vocabulary size is 50** and each word will be presented as a **20 dimensional vector**. Hence the total number of trainable parameters will be 1000. Similarly, the output from the embedding layer will be a sentence with 7 words where each word is represented by a 20 dimensional vector. However, when the **2D output is flattened, we get a 140 dimensional vector (7 x 20)**. The flattened vector is directly connected to the dense layer that contains 1 neuran."
      ]
    },
    {
      "cell_type": "code",
      "metadata": {
        "id": "Gg1Xl5KSMApT",
        "colab_type": "code",
        "colab": {
          "base_uri": "https://localhost:8080/",
          "height": 269
        },
        "outputId": "b883f18a-f8e0-4605-a459-292c06b6d958"
      },
      "source": [
        "model.compile(optimizer='adam', loss='binary_crossentropy', metrics=['acc'])\n",
        "print(model.summary())"
      ],
      "execution_count": 13,
      "outputs": [
        {
          "output_type": "stream",
          "text": [
            "Model: \"sequential_1\"\n",
            "_________________________________________________________________\n",
            "Layer (type)                 Output Shape              Param #   \n",
            "=================================================================\n",
            "embedding_1 (Embedding)      (None, 7, 20)             1000      \n",
            "_________________________________________________________________\n",
            "flatten_1 (Flatten)          (None, 140)               0         \n",
            "_________________________________________________________________\n",
            "dense_1 (Dense)              (None, 1)                 141       \n",
            "=================================================================\n",
            "Total params: 1,141\n",
            "Trainable params: 1,141\n",
            "Non-trainable params: 0\n",
            "_________________________________________________________________\n",
            "None\n"
          ],
          "name": "stdout"
        }
      ]
    },
    {
      "cell_type": "markdown",
      "metadata": {
        "id": "ICRwdJyxMoG-",
        "colab_type": "text"
      },
      "source": [
        "#Train the model on our data using the fit method"
      ]
    },
    {
      "cell_type": "code",
      "metadata": {
        "id": "91YNu8LkMssT",
        "colab_type": "code",
        "colab": {
          "base_uri": "https://localhost:8080/",
          "height": 1000
        },
        "outputId": "029bd84e-2c1d-4420-fc1f-18cb8ed3cd6c"
      },
      "source": [
        "model.fit(padded_sentences, sentiments, epochs=100, verbose=1)\n"
      ],
      "execution_count": 17,
      "outputs": [
        {
          "output_type": "stream",
          "text": [
            "Epoch 1/100\n",
            "16/16 [==============================] - 0s 20ms/step - loss: 0.7023 - acc: 0.3750\n",
            "Epoch 2/100\n",
            "16/16 [==============================] - 0s 289us/step - loss: 0.6985 - acc: 0.3750\n",
            "Epoch 3/100\n",
            "16/16 [==============================] - 0s 190us/step - loss: 0.6947 - acc: 0.4375\n",
            "Epoch 4/100\n",
            "16/16 [==============================] - 0s 107us/step - loss: 0.6909 - acc: 0.5000\n",
            "Epoch 5/100\n",
            "16/16 [==============================] - 0s 110us/step - loss: 0.6871 - acc: 0.5625\n",
            "Epoch 6/100\n",
            "16/16 [==============================] - 0s 157us/step - loss: 0.6834 - acc: 0.6875\n",
            "Epoch 7/100\n",
            "16/16 [==============================] - 0s 79us/step - loss: 0.6798 - acc: 0.8125\n",
            "Epoch 8/100\n",
            "16/16 [==============================] - 0s 84us/step - loss: 0.6760 - acc: 0.8125\n",
            "Epoch 9/100\n",
            "16/16 [==============================] - 0s 81us/step - loss: 0.6723 - acc: 0.8750\n",
            "Epoch 10/100\n",
            "16/16 [==============================] - 0s 78us/step - loss: 0.6686 - acc: 0.9375\n",
            "Epoch 11/100\n",
            "16/16 [==============================] - 0s 77us/step - loss: 0.6650 - acc: 1.0000\n",
            "Epoch 12/100\n",
            "16/16 [==============================] - 0s 112us/step - loss: 0.6613 - acc: 1.0000\n",
            "Epoch 13/100\n",
            "16/16 [==============================] - 0s 107us/step - loss: 0.6575 - acc: 1.0000\n",
            "Epoch 14/100\n",
            "16/16 [==============================] - 0s 100us/step - loss: 0.6538 - acc: 1.0000\n",
            "Epoch 15/100\n",
            "16/16 [==============================] - 0s 101us/step - loss: 0.6501 - acc: 1.0000\n",
            "Epoch 16/100\n",
            "16/16 [==============================] - 0s 99us/step - loss: 0.6463 - acc: 1.0000\n",
            "Epoch 17/100\n",
            "16/16 [==============================] - 0s 97us/step - loss: 0.6426 - acc: 1.0000\n",
            "Epoch 18/100\n",
            "16/16 [==============================] - 0s 99us/step - loss: 0.6388 - acc: 1.0000\n",
            "Epoch 19/100\n",
            "16/16 [==============================] - 0s 127us/step - loss: 0.6350 - acc: 1.0000\n",
            "Epoch 20/100\n",
            "16/16 [==============================] - 0s 107us/step - loss: 0.6311 - acc: 1.0000\n",
            "Epoch 21/100\n",
            "16/16 [==============================] - 0s 100us/step - loss: 0.6273 - acc: 1.0000\n",
            "Epoch 22/100\n",
            "16/16 [==============================] - 0s 118us/step - loss: 0.6234 - acc: 1.0000\n",
            "Epoch 23/100\n",
            "16/16 [==============================] - 0s 114us/step - loss: 0.6195 - acc: 1.0000\n",
            "Epoch 24/100\n",
            "16/16 [==============================] - 0s 92us/step - loss: 0.6155 - acc: 1.0000\n",
            "Epoch 25/100\n",
            "16/16 [==============================] - 0s 99us/step - loss: 0.6115 - acc: 1.0000\n",
            "Epoch 26/100\n",
            "16/16 [==============================] - 0s 82us/step - loss: 0.6075 - acc: 1.0000\n",
            "Epoch 27/100\n",
            "16/16 [==============================] - 0s 81us/step - loss: 0.6035 - acc: 1.0000\n",
            "Epoch 28/100\n",
            "16/16 [==============================] - 0s 96us/step - loss: 0.5994 - acc: 1.0000\n",
            "Epoch 29/100\n",
            "16/16 [==============================] - 0s 176us/step - loss: 0.5952 - acc: 1.0000\n",
            "Epoch 30/100\n",
            "16/16 [==============================] - 0s 327us/step - loss: 0.5910 - acc: 1.0000\n",
            "Epoch 31/100\n",
            "16/16 [==============================] - 0s 122us/step - loss: 0.5869 - acc: 1.0000\n",
            "Epoch 32/100\n",
            "16/16 [==============================] - 0s 121us/step - loss: 0.5826 - acc: 1.0000\n",
            "Epoch 33/100\n",
            "16/16 [==============================] - 0s 106us/step - loss: 0.5784 - acc: 1.0000\n",
            "Epoch 34/100\n",
            "16/16 [==============================] - 0s 124us/step - loss: 0.5741 - acc: 1.0000\n",
            "Epoch 35/100\n",
            "16/16 [==============================] - 0s 193us/step - loss: 0.5697 - acc: 1.0000\n",
            "Epoch 36/100\n",
            "16/16 [==============================] - 0s 152us/step - loss: 0.5653 - acc: 1.0000\n",
            "Epoch 37/100\n",
            "16/16 [==============================] - 0s 97us/step - loss: 0.5609 - acc: 1.0000\n",
            "Epoch 38/100\n",
            "16/16 [==============================] - 0s 91us/step - loss: 0.5564 - acc: 1.0000\n",
            "Epoch 39/100\n",
            "16/16 [==============================] - 0s 156us/step - loss: 0.5520 - acc: 1.0000\n",
            "Epoch 40/100\n",
            "16/16 [==============================] - 0s 121us/step - loss: 0.5474 - acc: 1.0000\n",
            "Epoch 41/100\n",
            "16/16 [==============================] - 0s 151us/step - loss: 0.5429 - acc: 1.0000\n",
            "Epoch 42/100\n",
            "16/16 [==============================] - 0s 183us/step - loss: 0.5383 - acc: 1.0000\n",
            "Epoch 43/100\n",
            "16/16 [==============================] - 0s 120us/step - loss: 0.5337 - acc: 1.0000\n",
            "Epoch 44/100\n",
            "16/16 [==============================] - 0s 248us/step - loss: 0.5290 - acc: 1.0000\n",
            "Epoch 45/100\n",
            "16/16 [==============================] - 0s 120us/step - loss: 0.5244 - acc: 1.0000\n",
            "Epoch 46/100\n",
            "16/16 [==============================] - 0s 215us/step - loss: 0.5196 - acc: 1.0000\n",
            "Epoch 47/100\n",
            "16/16 [==============================] - 0s 106us/step - loss: 0.5149 - acc: 1.0000\n",
            "Epoch 48/100\n",
            "16/16 [==============================] - 0s 134us/step - loss: 0.5101 - acc: 1.0000\n",
            "Epoch 49/100\n",
            "16/16 [==============================] - 0s 164us/step - loss: 0.5054 - acc: 1.0000\n",
            "Epoch 50/100\n",
            "16/16 [==============================] - 0s 135us/step - loss: 0.5005 - acc: 1.0000\n",
            "Epoch 51/100\n",
            "16/16 [==============================] - 0s 187us/step - loss: 0.4957 - acc: 1.0000\n",
            "Epoch 52/100\n",
            "16/16 [==============================] - 0s 127us/step - loss: 0.4908 - acc: 1.0000\n",
            "Epoch 53/100\n",
            "16/16 [==============================] - 0s 167us/step - loss: 0.4860 - acc: 1.0000\n",
            "Epoch 54/100\n",
            "16/16 [==============================] - 0s 112us/step - loss: 0.4811 - acc: 1.0000\n",
            "Epoch 55/100\n",
            "16/16 [==============================] - 0s 104us/step - loss: 0.4762 - acc: 1.0000\n",
            "Epoch 56/100\n",
            "16/16 [==============================] - 0s 107us/step - loss: 0.4712 - acc: 1.0000\n",
            "Epoch 57/100\n",
            "16/16 [==============================] - 0s 109us/step - loss: 0.4663 - acc: 1.0000\n",
            "Epoch 58/100\n",
            "16/16 [==============================] - 0s 121us/step - loss: 0.4613 - acc: 1.0000\n",
            "Epoch 59/100\n",
            "16/16 [==============================] - 0s 101us/step - loss: 0.4564 - acc: 1.0000\n",
            "Epoch 60/100\n",
            "16/16 [==============================] - 0s 132us/step - loss: 0.4514 - acc: 1.0000\n",
            "Epoch 61/100\n",
            "16/16 [==============================] - 0s 146us/step - loss: 0.4465 - acc: 1.0000\n",
            "Epoch 62/100\n",
            "16/16 [==============================] - 0s 117us/step - loss: 0.4415 - acc: 1.0000\n",
            "Epoch 63/100\n",
            "16/16 [==============================] - 0s 109us/step - loss: 0.4365 - acc: 1.0000\n",
            "Epoch 64/100\n",
            "16/16 [==============================] - 0s 92us/step - loss: 0.4315 - acc: 1.0000\n",
            "Epoch 65/100\n",
            "16/16 [==============================] - 0s 143us/step - loss: 0.4266 - acc: 1.0000\n",
            "Epoch 66/100\n",
            "16/16 [==============================] - 0s 146us/step - loss: 0.4216 - acc: 1.0000\n",
            "Epoch 67/100\n",
            "16/16 [==============================] - 0s 116us/step - loss: 0.4166 - acc: 1.0000\n",
            "Epoch 68/100\n",
            "16/16 [==============================] - 0s 109us/step - loss: 0.4117 - acc: 1.0000\n",
            "Epoch 69/100\n",
            "16/16 [==============================] - 0s 110us/step - loss: 0.4067 - acc: 1.0000\n",
            "Epoch 70/100\n",
            "16/16 [==============================] - 0s 118us/step - loss: 0.4018 - acc: 1.0000\n",
            "Epoch 71/100\n",
            "16/16 [==============================] - 0s 122us/step - loss: 0.3969 - acc: 1.0000\n",
            "Epoch 72/100\n",
            "16/16 [==============================] - 0s 155us/step - loss: 0.3919 - acc: 1.0000\n",
            "Epoch 73/100\n",
            "16/16 [==============================] - 0s 114us/step - loss: 0.3871 - acc: 1.0000\n",
            "Epoch 74/100\n",
            "16/16 [==============================] - 0s 127us/step - loss: 0.3822 - acc: 1.0000\n",
            "Epoch 75/100\n",
            "16/16 [==============================] - 0s 114us/step - loss: 0.3773 - acc: 1.0000\n",
            "Epoch 76/100\n",
            "16/16 [==============================] - 0s 118us/step - loss: 0.3725 - acc: 1.0000\n",
            "Epoch 77/100\n",
            "16/16 [==============================] - 0s 126us/step - loss: 0.3677 - acc: 1.0000\n",
            "Epoch 78/100\n",
            "16/16 [==============================] - 0s 133us/step - loss: 0.3629 - acc: 1.0000\n",
            "Epoch 79/100\n",
            "16/16 [==============================] - 0s 132us/step - loss: 0.3582 - acc: 1.0000\n",
            "Epoch 80/100\n",
            "16/16 [==============================] - 0s 124us/step - loss: 0.3534 - acc: 1.0000\n",
            "Epoch 81/100\n",
            "16/16 [==============================] - 0s 111us/step - loss: 0.3487 - acc: 1.0000\n",
            "Epoch 82/100\n",
            "16/16 [==============================] - 0s 174us/step - loss: 0.3441 - acc: 1.0000\n",
            "Epoch 83/100\n",
            "16/16 [==============================] - 0s 120us/step - loss: 0.3394 - acc: 1.0000\n",
            "Epoch 84/100\n",
            "16/16 [==============================] - 0s 120us/step - loss: 0.3348 - acc: 1.0000\n",
            "Epoch 85/100\n",
            "16/16 [==============================] - 0s 114us/step - loss: 0.3302 - acc: 1.0000\n",
            "Epoch 86/100\n",
            "16/16 [==============================] - 0s 117us/step - loss: 0.3257 - acc: 1.0000\n",
            "Epoch 87/100\n",
            "16/16 [==============================] - 0s 116us/step - loss: 0.3212 - acc: 1.0000\n",
            "Epoch 88/100\n",
            "16/16 [==============================] - 0s 120us/step - loss: 0.3167 - acc: 1.0000\n",
            "Epoch 89/100\n",
            "16/16 [==============================] - 0s 128us/step - loss: 0.3123 - acc: 1.0000\n",
            "Epoch 90/100\n",
            "16/16 [==============================] - 0s 111us/step - loss: 0.3079 - acc: 1.0000\n",
            "Epoch 91/100\n",
            "16/16 [==============================] - 0s 130us/step - loss: 0.3036 - acc: 1.0000\n",
            "Epoch 92/100\n",
            "16/16 [==============================] - 0s 120us/step - loss: 0.2993 - acc: 1.0000\n",
            "Epoch 93/100\n",
            "16/16 [==============================] - 0s 191us/step - loss: 0.2950 - acc: 1.0000\n",
            "Epoch 94/100\n",
            "16/16 [==============================] - 0s 166us/step - loss: 0.2908 - acc: 1.0000\n",
            "Epoch 95/100\n",
            "16/16 [==============================] - 0s 107us/step - loss: 0.2867 - acc: 1.0000\n",
            "Epoch 96/100\n",
            "16/16 [==============================] - 0s 127us/step - loss: 0.2825 - acc: 1.0000\n",
            "Epoch 97/100\n",
            "16/16 [==============================] - 0s 136us/step - loss: 0.2784 - acc: 1.0000\n",
            "Epoch 98/100\n",
            "16/16 [==============================] - 0s 124us/step - loss: 0.2744 - acc: 1.0000\n",
            "Epoch 99/100\n",
            "16/16 [==============================] - 0s 120us/step - loss: 0.2704 - acc: 1.0000\n",
            "Epoch 100/100\n",
            "16/16 [==============================] - 0s 167us/step - loss: 0.2665 - acc: 1.0000\n"
          ],
          "name": "stdout"
        },
        {
          "output_type": "execute_result",
          "data": {
            "text/plain": [
              "<keras.callbacks.callbacks.History at 0x7f79f025c400>"
            ]
          },
          "metadata": {
            "tags": []
          },
          "execution_count": 17
        }
      ]
    }
  ]
}